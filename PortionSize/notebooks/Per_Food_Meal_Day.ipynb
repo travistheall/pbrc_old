{
 "cells": [
  {
   "cell_type": "code",
   "execution_count": 1,
   "metadata": {},
   "outputs": [],
   "source": [
    "import pandas as pd\n",
    "import datetime\n",
    "photoDf = pd.read_excel(io=\"../data/Portions.ods\", sheet_name=\"FoodPhoto\", engine=\"odf\")\n",
    "forgotDf = pd.read_excel(io=\"../data/Portions.ods\", sheet_name=\"ForgotMeal\", engine=\"odf\")"
   ]
  },
  {
   "cell_type": "code",
   "execution_count": 4,
   "metadata": {},
   "outputs": [],
   "source": [
    "forgotMealDf = pd.read_excel(io=\"../data/excel/ForgotMealEvent.xlsx\")\n",
    "foodPhotoDf = pd.read_excel(io=\"../data/excel/FoodPhotoEvent.xlsx\")\n",
    "afterPhotosDf = pd.read_excel(io=\"../data/excel/AfterPhotosEvent.xlsx\")\n",
    "summariesDf = pd.read_excel(io=\"../data/ODS/ADMU Extract - 11420.ods\", sheet_name=\"Summaries\", engine=\"odf\")"
   ]
  },
  {
   "cell_type": "code",
   "execution_count": 5,
   "metadata": {},
   "outputs": [],
   "source": []
  },
  {
   "cell_type": "code",
   "execution_count": 6,
   "metadata": {},
   "outputs": [],
   "source": [
    "forgotMealDf.append(other=foodPhotoDf).append(other=afterPhotosDf).append(summariesDf.to_excel(\"extract_raw.xlsx\")"
   ]
  },
  {
   "cell_type": "code",
   "execution_count": 10,
   "metadata": {},
   "outputs": [],
   "source": [
    "pd.read_excel(\"all_appended.xlsx\").append(other=summariesDf).to_excel(\"extract_raw.xlsx\")"
   ]
  },
  {
   "cell_type": "code",
   "execution_count": 77,
   "metadata": {},
   "outputs": [],
   "source": [
    "intakeOnlyDf = pd.read_excel(io='appended.xlsx', sheet_name='Per Meal')"
   ]
  },
  {
   "cell_type": "code",
   "execution_count": 78,
   "metadata": {},
   "outputs": [],
   "source": [
    "meals = intakeOnlyDf['Meal_ID'].unique()\n",
    "intakeOnlyDf['Meal_ID1']=intakeOnlyDf['Meal_ID']\n",
    "intakeOnlyDf=intakeOnlyDf.set_index('Meal_ID1')"
   ]
  },
  {
   "cell_type": "code",
   "execution_count": 79,
   "metadata": {},
   "outputs": [],
   "source": [
    "perMealsDf = pd.DataFrame(columns=intakeOnlyDf.columns)\n",
    "for meal in meals:\n",
    "    df = intakeOnlyDf.loc[meal]\n",
    "    try:\n",
    "        maxTime = df['Time'].max()\n",
    "        mealMaxTime = df.where(df['Time'] == maxTime).dropna()\n",
    "    except TypeError:\n",
    "        mealMaxTime = df\n",
    "    perMealsDf=perMealsDf.append(other=mealMaxTime)"
   ]
  },
  {
   "cell_type": "code",
   "execution_count": null,
   "metadata": {},
   "outputs": [],
   "source": [
    "perMealsDf.to_excel('per_meal.xlsx')"
   ]
  },
  {
   "cell_type": "code",
   "execution_count": 84,
   "metadata": {},
   "outputs": [],
   "source": [
    "intakeOnlyDf = pd.read_excel(io='~/Downloads/appended.xlsx', sheet_name='Per Meal')\n",
    "intakeOnlyDf['Day_ID1']=intakeOnlyDf['Day_ID']\n",
    "intakeOnlyDf=intakeOnlyDf.set_index('Day_ID1')"
   ]
  },
  {
   "cell_type": "code",
   "execution_count": 85,
   "metadata": {},
   "outputs": [],
   "source": [
    "perDayDf = pd.DataFrame(columns=intakeOnlyDf.columns)\n",
    "days = intakeOnlyDf['Day_ID'].unique()\n",
    "for day in days:\n",
    "    df = intakeOnlyDf.loc[day]\n",
    "    try:\n",
    "        maxTime = df['Time'].max()\n",
    "        dayMaxTime = df.where(df['Time'] == maxTime).dropna()\n",
    "    except TypeError:\n",
    "        dayMaxTime = df\n",
    "    perDayDf=perDayDf.append(other=dayMaxTime)"
   ]
  },
  {
   "cell_type": "code",
   "execution_count": 88,
   "metadata": {},
   "outputs": [],
   "source": [
    "perDayDf.to_excel('per_day.xlsx')"
   ]
  },
  {
   "cell_type": "code",
   "execution_count": null,
   "metadata": {},
   "outputs": [],
   "source": []
  }
 ],
 "metadata": {
  "kernelspec": {
   "display_name": "Python 3",
   "language": "python",
   "name": "python3"
  },
  "language_info": {
   "codemirror_mode": {
    "name": "ipython",
    "version": 3
   },
   "file_extension": ".py",
   "mimetype": "text/x-python",
   "name": "python",
   "nbconvert_exporter": "python",
   "pygments_lexer": "ipython3",
   "version": "3.8.3"
  }
 },
 "nbformat": 4,
 "nbformat_minor": 4
}
